{
 "cells": [
  {
   "cell_type": "code",
   "execution_count": 37,
   "metadata": {},
   "outputs": [
    {
     "name": "stderr",
     "output_type": "stream",
     "text": [
      "c:\\Users\\SVI\\Desktop\\OpenAI\\env\\Lib\\site-packages\\tqdm\\auto.py:21: TqdmWarning: IProgress not found. Please update jupyter and ipywidgets. See https://ipywidgets.readthedocs.io/en/stable/user_install.html\n",
      "  from .autonotebook import tqdm as notebook_tqdm\n"
     ]
    }
   ],
   "source": [
    "import pathlib\n",
    "import textwrap\n",
    "\n",
    "import google.generativeai as genai\n",
    "\n",
    "from IPython.display import display\n",
    "from IPython.display import Markdown\n",
    "\n",
    "\n",
    "def to_markdown(text):\n",
    "  text = text.replace('•', '  *')\n",
    "  return Markdown(textwrap.indent(text, '> ', predicate=lambda _: True))"
   ]
  },
  {
   "cell_type": "code",
   "execution_count": 39,
   "metadata": {},
   "outputs": [],
   "source": [
    "import os\n",
    "os.environ['GOOGLE_API_KEY'] = \"api_key\""
   ]
  },
  {
   "cell_type": "markdown",
   "metadata": {},
   "source": []
  },
  {
   "cell_type": "code",
   "execution_count": 40,
   "metadata": {},
   "outputs": [],
   "source": [
    "genai.configure(api_key=os.environ['GOOGLE_API_KEY'])"
   ]
  },
  {
   "cell_type": "code",
   "execution_count": 41,
   "metadata": {},
   "outputs": [
    {
     "name": "stdout",
     "output_type": "stream",
     "text": [
      "models/gemini-1.0-pro\n",
      "models/gemini-1.0-pro-001\n",
      "models/gemini-1.0-pro-latest\n",
      "models/gemini-1.0-pro-vision-latest\n",
      "models/gemini-1.5-flash\n",
      "models/gemini-1.5-flash-001\n",
      "models/gemini-1.5-flash-latest\n",
      "models/gemini-1.5-pro\n",
      "models/gemini-1.5-pro-001\n",
      "models/gemini-1.5-pro-latest\n",
      "models/gemini-pro\n",
      "models/gemini-pro-vision\n"
     ]
    }
   ],
   "source": [
    "for m in genai.list_models():\n",
    "  if 'generateContent' in m.supported_generation_methods:\n",
    "    print(m.name)"
   ]
  },
  {
   "cell_type": "code",
   "execution_count": 42,
   "metadata": {},
   "outputs": [],
   "source": [
    "model = genai.GenerativeModel('gemini-pro')"
   ]
  },
  {
   "cell_type": "code",
   "execution_count": 43,
   "metadata": {},
   "outputs": [
    {
     "name": "stdout",
     "output_type": "stream",
     "text": [
      "CPU times: total: 15.6 ms\n",
      "Wall time: 7.54 s\n"
     ]
    }
   ],
   "source": [
    "%%time\n",
    "response = model.generate_content(\"Who is virat kohli ?\")"
   ]
  },
  {
   "cell_type": "code",
   "execution_count": 44,
   "metadata": {},
   "outputs": [
    {
     "ename": "ValueError",
     "evalue": "The `response.text` quick accessor only works when the response contains a valid `Part`, but none was returned. Check the `candidate.safety_ratings` to see if the response was blocked.",
     "output_type": "error",
     "traceback": [
      "\u001b[1;31m---------------------------------------------------------------------------\u001b[0m",
      "\u001b[1;31mValueError\u001b[0m                                Traceback (most recent call last)",
      "Cell \u001b[1;32mIn[44], line 1\u001b[0m\n\u001b[1;32m----> 1\u001b[0m to_markdown(\u001b[43mresponse\u001b[49m\u001b[38;5;241;43m.\u001b[39;49m\u001b[43mtext\u001b[49m)\n",
      "File \u001b[1;32mc:\\Users\\SVI\\Desktop\\OpenAI\\env\\Lib\\site-packages\\google\\generativeai\\types\\generation_types.py:401\u001b[0m, in \u001b[0;36mBaseGenerateContentResponse.text\u001b[1;34m(self)\u001b[0m\n\u001b[0;32m    399\u001b[0m parts \u001b[38;5;241m=\u001b[39m \u001b[38;5;28mself\u001b[39m\u001b[38;5;241m.\u001b[39mparts\n\u001b[0;32m    400\u001b[0m \u001b[38;5;28;01mif\u001b[39;00m \u001b[38;5;129;01mnot\u001b[39;00m parts:\n\u001b[1;32m--> 401\u001b[0m     \u001b[38;5;28;01mraise\u001b[39;00m \u001b[38;5;167;01mValueError\u001b[39;00m(\n\u001b[0;32m    402\u001b[0m         \u001b[38;5;124m\"\u001b[39m\u001b[38;5;124mThe `response.text` quick accessor only works when the response contains a valid \u001b[39m\u001b[38;5;124m\"\u001b[39m\n\u001b[0;32m    403\u001b[0m         \u001b[38;5;124m\"\u001b[39m\u001b[38;5;124m`Part`, but none was returned. Check the `candidate.safety_ratings` to see if the \u001b[39m\u001b[38;5;124m\"\u001b[39m\n\u001b[0;32m    404\u001b[0m         \u001b[38;5;124m\"\u001b[39m\u001b[38;5;124mresponse was blocked.\u001b[39m\u001b[38;5;124m\"\u001b[39m\n\u001b[0;32m    405\u001b[0m     )\n\u001b[0;32m    407\u001b[0m \u001b[38;5;28;01mif\u001b[39;00m \u001b[38;5;28mlen\u001b[39m(parts) \u001b[38;5;241m!=\u001b[39m \u001b[38;5;241m1\u001b[39m \u001b[38;5;129;01mor\u001b[39;00m \u001b[38;5;124m\"\u001b[39m\u001b[38;5;124mtext\u001b[39m\u001b[38;5;124m\"\u001b[39m \u001b[38;5;129;01mnot\u001b[39;00m \u001b[38;5;129;01min\u001b[39;00m parts[\u001b[38;5;241m0\u001b[39m]:\n\u001b[0;32m    408\u001b[0m     \u001b[38;5;28;01mraise\u001b[39;00m \u001b[38;5;167;01mValueError\u001b[39;00m(\n\u001b[0;32m    409\u001b[0m         \u001b[38;5;124m\"\u001b[39m\u001b[38;5;124mThe `response.text` quick accessor only works for \u001b[39m\u001b[38;5;124m\"\u001b[39m\n\u001b[0;32m    410\u001b[0m         \u001b[38;5;124m\"\u001b[39m\u001b[38;5;124msimple (single-`Part`) text responses. This response is not simple text. \u001b[39m\u001b[38;5;124m\"\u001b[39m\n\u001b[1;32m   (...)\u001b[0m\n\u001b[0;32m    413\u001b[0m         \u001b[38;5;124m\"\u001b[39m\u001b[38;5;124minstead.\u001b[39m\u001b[38;5;124m\"\u001b[39m\n\u001b[0;32m    414\u001b[0m     )\n",
      "\u001b[1;31mValueError\u001b[0m: The `response.text` quick accessor only works when the response contains a valid `Part`, but none was returned. Check the `candidate.safety_ratings` to see if the response was blocked."
     ]
    }
   ],
   "source": [
    "to_markdown(response.text)"
   ]
  },
  {
   "cell_type": "code",
   "execution_count": 5,
   "metadata": {},
   "outputs": [
    {
     "name": "stdout",
     "output_type": "stream",
     "text": [
      "models/gemini-1.0-pro\n",
      "models/gemini-1.0-pro-001\n",
      "models/gemini-1.0-pro-latest\n",
      "models/gemini-1.0-pro-vision-latest\n",
      "models/gemini-1.5-flash\n",
      "models/gemini-1.5-flash-001\n",
      "models/gemini-1.5-flash-latest\n",
      "models/gemini-1.5-pro\n",
      "models/gemini-1.5-pro-001\n",
      "models/gemini-1.5-pro-latest\n",
      "models/gemini-pro\n",
      "models/gemini-pro-vision\n",
      "Response object: response:\n",
      "GenerateContentResponse(\n",
      "    done=True,\n",
      "    iterator=None,\n",
      "    result=glm.GenerateContentResponse({\n",
      "      \"candidates\": [\n",
      "        {\n",
      "          \"content\": {\n",
      "            \"parts\": [\n",
      "              {\n",
      "                \"text\": \"Virat Kohli is an Indian international cricketer and the former captain of the Indian national cricket team. Born on November 5, 1988, in Delhi, India, he is widely regarded as one of the greatest batsmen in the history of the sport.\\n\\n**Early Life and Career:**\\n\\n* Kohli started playing cricket at the age of nine and made his first-class debut for Delhi in 2006.\\n* He led India's Under-19 team to victory in the 2008 U-19 Cricket World Cup.\\n\\n**International Debut:**\\n\\n* Kohli made his ODI debut for India in 2008 and his Test debut in 2011.\\n* He quickly established himself as a prolific scorer in both formats.\\n\\n**Captaincy:**\\n\\n* Kohli was appointed captain of the Indian ODI and T20I teams in 2014.\\n* He became the Test captain in 2015, succeeding Mahendra Singh Dhoni.\\n* Under Kohli's leadership, India achieved several historic milestones, including:\\n    * Test series victories in Australia, England, and South Africa\\n    * Winning the Asia Cup in 2016 and 2018\\n    * Reaching the semi-finals of the 2015 and 2019 Cricket World Cups\\n\\n**Batting Records:**\\n\\n* Kohli has scored over 25,000 runs in international cricket across all formats.\\n* He holds numerous batting records, including:\\n    * Most runs scored in T20 Internationals\\n    * Fastest to reach 10,000 runs in ODIs\\n    * Most centuries by an Indian batsman in Tests, ODIs, and T20Is\\n\\n**Personal Life:**\\n\\n* Kohli is married to Bollywood actress Anushka Sharma.\\n* He is also known for his philanthropy and has supported various charitable causes, including animal welfare.\\n\\n**Legacy:**\\n\\n* Virat Kohli is considered one of the greatest batsmen of all time.\\n* His aggressive playing style and exceptional leadership qualities have inspired young cricketers worldwide.\\n* He is widely respected for his dedication to the sport and his unwavering commitment to excellence.\"\n",
      "              }\n",
      "            ],\n",
      "            \"role\": \"model\"\n",
      "          },\n",
      "          \"finish_reason\": 1,\n",
      "          \"index\": 0,\n",
      "          \"safety_ratings\": [\n",
      "            {\n",
      "              \"category\": 9,\n",
      "              \"probability\": 1,\n",
      "              \"blocked\": false\n",
      "            },\n",
      "            {\n",
      "              \"category\": 8,\n",
      "              \"probability\": 1,\n",
      "              \"blocked\": false\n",
      "            },\n",
      "            {\n",
      "              \"category\": 7,\n",
      "              \"probability\": 1,\n",
      "              \"blocked\": false\n",
      "            },\n",
      "            {\n",
      "              \"category\": 10,\n",
      "              \"probability\": 1,\n",
      "              \"blocked\": false\n",
      "            }\n",
      "          ],\n",
      "          \"token_count\": 0,\n",
      "          \"grounding_attributions\": []\n",
      "        }\n",
      "      ]\n",
      "    }),\n",
      ")\n",
      "Error accessing response parts: Unknown field for Part: replace\n"
     ]
    },
    {
     "data": {
      "text/markdown": [
       "> Virat Kohli is an Indian international cricketer and the former captain of the Indian national cricket team. Born on November 5, 1988, in Delhi, India, he is widely regarded as one of the greatest batsmen in the history of the sport.\n",
       "> \n",
       "> **Early Life and Career:**\n",
       "> \n",
       "> * Kohli started playing cricket at the age of nine and made his first-class debut for Delhi in 2006.\n",
       "> * He led India's Under-19 team to victory in the 2008 U-19 Cricket World Cup.\n",
       "> \n",
       "> **International Debut:**\n",
       "> \n",
       "> * Kohli made his ODI debut for India in 2008 and his Test debut in 2011.\n",
       "> * He quickly established himself as a prolific scorer in both formats.\n",
       "> \n",
       "> **Captaincy:**\n",
       "> \n",
       "> * Kohli was appointed captain of the Indian ODI and T20I teams in 2014.\n",
       "> * He became the Test captain in 2015, succeeding Mahendra Singh Dhoni.\n",
       "> * Under Kohli's leadership, India achieved several historic milestones, including:\n",
       ">     * Test series victories in Australia, England, and South Africa\n",
       ">     * Winning the Asia Cup in 2016 and 2018\n",
       ">     * Reaching the semi-finals of the 2015 and 2019 Cricket World Cups\n",
       "> \n",
       "> **Batting Records:**\n",
       "> \n",
       "> * Kohli has scored over 25,000 runs in international cricket across all formats.\n",
       "> * He holds numerous batting records, including:\n",
       ">     * Most runs scored in T20 Internationals\n",
       ">     * Fastest to reach 10,000 runs in ODIs\n",
       ">     * Most centuries by an Indian batsman in Tests, ODIs, and T20Is\n",
       "> \n",
       "> **Personal Life:**\n",
       "> \n",
       "> * Kohli is married to Bollywood actress Anushka Sharma.\n",
       "> * He is also known for his philanthropy and has supported various charitable causes, including animal welfare.\n",
       "> \n",
       "> **Legacy:**\n",
       "> \n",
       "> * Virat Kohli is considered one of the greatest batsmen of all time.\n",
       "> * His aggressive playing style and exceptional leadership qualities have inspired young cricketers worldwide.\n",
       "> * He is widely respected for his dedication to the sport and his unwavering commitment to excellence."
      ],
      "text/plain": [
       "<IPython.core.display.Markdown object>"
      ]
     },
     "metadata": {},
     "output_type": "display_data"
    }
   ],
   "source": [
    "import pathlib\n",
    "import textwrap\n",
    "import google.generativeai as genai\n",
    "from IPython.display import display, Markdown\n",
    "\n",
    "# Function to display text as markdown\n",
    "def to_markdown(text):\n",
    "    text = text.replace('•', '  *')\n",
    "    return Markdown(textwrap.indent(text, '> ', predicate=lambda _: True))\n",
    "\n",
    "# Set the Google API key\n",
    "os.environ['GOOGLE_API_KEY'] = \"api_key\"\n",
    "\n",
    "# Configure the GenerativeAI client\n",
    "genai.configure(api_key=os.environ['GOOGLE_API_KEY'])\n",
    "\n",
    "# List available models\n",
    "for m in genai.list_models():\n",
    "    if 'generateContent' in m.supported_generation_methods:\n",
    "        print(m.name)\n",
    "\n",
    "# Initialize the GenerativeModel\n",
    "model = genai.GenerativeModel('gemini-pro')\n",
    "\n",
    "# Generate content and handle response\n",
    "response = model.generate_content(\"Who is Virat Kohli?\")\n",
    "\n",
    "# Print the entire response object to inspect its structure\n",
    "print(\"Response object:\", response)\n",
    "\n",
    "# Check if the response contains parts and display the text if available\n",
    "try:\n",
    "    if response.parts:\n",
    "        for part in response.parts:\n",
    "            if 'text' in part:\n",
    "                print(to_markdown(part))\n",
    "            else:\n",
    "                print(\"No text found in part:\", part)\n",
    "    else:\n",
    "        print(\"No parts found in the response.\")\n",
    "except AttributeError as e:\n",
    "    print(f\"Error accessing response parts: {e}\")\n",
    "\n",
    "# Alternatively, handle the case where response.text might not be directly accessible\n",
    "try:\n",
    "    if response.text:\n",
    "        display(to_markdown(response.text))\n",
    "    else:\n",
    "        print(\"No direct text found in the response.\")\n",
    "except ValueError as e:\n",
    "    print(f\"Error accessing response text: {e}\")\n"
   ]
  },
  {
   "cell_type": "code",
   "execution_count": null,
   "metadata": {},
   "outputs": [],
   "source": []
  }
 ],
 "metadata": {
  "kernelspec": {
   "display_name": "env",
   "language": "python",
   "name": "python3"
  },
  "language_info": {
   "codemirror_mode": {
    "name": "ipython",
    "version": 3
   },
   "file_extension": ".py",
   "mimetype": "text/x-python",
   "name": "python",
   "nbconvert_exporter": "python",
   "pygments_lexer": "ipython3",
   "version": "3.12.2"
  }
 },
 "nbformat": 4,
 "nbformat_minor": 2
}
